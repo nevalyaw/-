{
 "cells": [
  {
   "cell_type": "markdown",
   "id": "4d4c7841",
   "metadata": {
    "deletable": false,
    "editable": false,
    "id": "c81daeeb"
   },
   "source": [
    "# Исследование надежности заемщиков\n"
   ]
  },
  {
   "cell_type": "markdown",
   "id": "93401740",
   "metadata": {
    "deletable": false,
    "editable": false,
    "id": "827c20bf"
   },
   "source": [
    "Во второй части проекта вы выполните шаги 3 и 4. Их вручную проверит ревьюер.\n",
    "Чтобы вам не пришлось писать код заново для шагов 1 и 2, мы добавили авторские решения в ячейки с кодом. \n",
    "\n"
   ]
  },
  {
   "cell_type": "markdown",
   "id": "853f318f",
   "metadata": {
    "deletable": false,
    "editable": false,
    "id": "744d7639"
   },
   "source": [
    "## Откройте таблицу и изучите общую информацию о данных"
   ]
  },
  {
   "cell_type": "markdown",
   "id": "ee824e5c",
   "metadata": {
    "deletable": false,
    "editable": false,
    "id": "e7a14c31"
   },
   "source": [
    "**Задание 1. Импортируйте библиотеку pandas. Считайте данные из csv-файла в датафрейм и сохраните в переменную `data`. Путь к файлу:**\n",
    "\n",
    "`/datasets/data.csv`"
   ]
  },
  {
   "cell_type": "code",
   "execution_count": 1,
   "id": "de72892f",
   "metadata": {
    "deletable": false,
    "id": "7bcf75c9"
   },
   "outputs": [],
   "source": [
    "import pandas as pd\n",
    "\n",
    "try:\n",
    "    data = pd.read_csv('/datasets/data.csv')\n",
    "except:\n",
    "    data = pd.read_csv('https://code.s3.yandex.net/datasets/data.csv')"
   ]
  },
  {
   "cell_type": "markdown",
   "id": "c0323a5b",
   "metadata": {
    "deletable": false,
    "editable": false,
    "id": "b8038fe3"
   },
   "source": [
    "**Задание 2. Выведите первые 20 строчек датафрейма `data` на экран.**"
   ]
  },
  {
   "cell_type": "code",
   "execution_count": 2,
   "id": "ac25369c",
   "metadata": {
    "deletable": false,
    "id": "2a7cab99",
    "outputId": "1a8f3ef2-d323-4ec2-ddf7-89670b5944c4"
   },
   "outputs": [
    {
     "data": {
      "text/html": [
       "<div>\n",
       "<style scoped>\n",
       "    .dataframe tbody tr th:only-of-type {\n",
       "        vertical-align: middle;\n",
       "    }\n",
       "\n",
       "    .dataframe tbody tr th {\n",
       "        vertical-align: top;\n",
       "    }\n",
       "\n",
       "    .dataframe thead th {\n",
       "        text-align: right;\n",
       "    }\n",
       "</style>\n",
       "<table border=\"1\" class=\"dataframe\">\n",
       "  <thead>\n",
       "    <tr style=\"text-align: right;\">\n",
       "      <th></th>\n",
       "      <th>children</th>\n",
       "      <th>days_employed</th>\n",
       "      <th>dob_years</th>\n",
       "      <th>education</th>\n",
       "      <th>education_id</th>\n",
       "      <th>family_status</th>\n",
       "      <th>family_status_id</th>\n",
       "      <th>gender</th>\n",
       "      <th>income_type</th>\n",
       "      <th>debt</th>\n",
       "      <th>total_income</th>\n",
       "      <th>purpose</th>\n",
       "    </tr>\n",
       "  </thead>\n",
       "  <tbody>\n",
       "    <tr>\n",
       "      <th>0</th>\n",
       "      <td>1</td>\n",
       "      <td>-8437.673028</td>\n",
       "      <td>42</td>\n",
       "      <td>высшее</td>\n",
       "      <td>0</td>\n",
       "      <td>женат / замужем</td>\n",
       "      <td>0</td>\n",
       "      <td>F</td>\n",
       "      <td>сотрудник</td>\n",
       "      <td>0</td>\n",
       "      <td>253875.639453</td>\n",
       "      <td>покупка жилья</td>\n",
       "    </tr>\n",
       "    <tr>\n",
       "      <th>1</th>\n",
       "      <td>1</td>\n",
       "      <td>-4024.803754</td>\n",
       "      <td>36</td>\n",
       "      <td>среднее</td>\n",
       "      <td>1</td>\n",
       "      <td>женат / замужем</td>\n",
       "      <td>0</td>\n",
       "      <td>F</td>\n",
       "      <td>сотрудник</td>\n",
       "      <td>0</td>\n",
       "      <td>112080.014102</td>\n",
       "      <td>приобретение автомобиля</td>\n",
       "    </tr>\n",
       "    <tr>\n",
       "      <th>2</th>\n",
       "      <td>0</td>\n",
       "      <td>-5623.422610</td>\n",
       "      <td>33</td>\n",
       "      <td>Среднее</td>\n",
       "      <td>1</td>\n",
       "      <td>женат / замужем</td>\n",
       "      <td>0</td>\n",
       "      <td>M</td>\n",
       "      <td>сотрудник</td>\n",
       "      <td>0</td>\n",
       "      <td>145885.952297</td>\n",
       "      <td>покупка жилья</td>\n",
       "    </tr>\n",
       "    <tr>\n",
       "      <th>3</th>\n",
       "      <td>3</td>\n",
       "      <td>-4124.747207</td>\n",
       "      <td>32</td>\n",
       "      <td>среднее</td>\n",
       "      <td>1</td>\n",
       "      <td>женат / замужем</td>\n",
       "      <td>0</td>\n",
       "      <td>M</td>\n",
       "      <td>сотрудник</td>\n",
       "      <td>0</td>\n",
       "      <td>267628.550329</td>\n",
       "      <td>дополнительное образование</td>\n",
       "    </tr>\n",
       "    <tr>\n",
       "      <th>4</th>\n",
       "      <td>0</td>\n",
       "      <td>340266.072047</td>\n",
       "      <td>53</td>\n",
       "      <td>среднее</td>\n",
       "      <td>1</td>\n",
       "      <td>гражданский брак</td>\n",
       "      <td>1</td>\n",
       "      <td>F</td>\n",
       "      <td>пенсионер</td>\n",
       "      <td>0</td>\n",
       "      <td>158616.077870</td>\n",
       "      <td>сыграть свадьбу</td>\n",
       "    </tr>\n",
       "    <tr>\n",
       "      <th>5</th>\n",
       "      <td>0</td>\n",
       "      <td>-926.185831</td>\n",
       "      <td>27</td>\n",
       "      <td>высшее</td>\n",
       "      <td>0</td>\n",
       "      <td>гражданский брак</td>\n",
       "      <td>1</td>\n",
       "      <td>M</td>\n",
       "      <td>компаньон</td>\n",
       "      <td>0</td>\n",
       "      <td>255763.565419</td>\n",
       "      <td>покупка жилья</td>\n",
       "    </tr>\n",
       "    <tr>\n",
       "      <th>6</th>\n",
       "      <td>0</td>\n",
       "      <td>-2879.202052</td>\n",
       "      <td>43</td>\n",
       "      <td>высшее</td>\n",
       "      <td>0</td>\n",
       "      <td>женат / замужем</td>\n",
       "      <td>0</td>\n",
       "      <td>F</td>\n",
       "      <td>компаньон</td>\n",
       "      <td>0</td>\n",
       "      <td>240525.971920</td>\n",
       "      <td>операции с жильем</td>\n",
       "    </tr>\n",
       "    <tr>\n",
       "      <th>7</th>\n",
       "      <td>0</td>\n",
       "      <td>-152.779569</td>\n",
       "      <td>50</td>\n",
       "      <td>СРЕДНЕЕ</td>\n",
       "      <td>1</td>\n",
       "      <td>женат / замужем</td>\n",
       "      <td>0</td>\n",
       "      <td>M</td>\n",
       "      <td>сотрудник</td>\n",
       "      <td>0</td>\n",
       "      <td>135823.934197</td>\n",
       "      <td>образование</td>\n",
       "    </tr>\n",
       "    <tr>\n",
       "      <th>8</th>\n",
       "      <td>2</td>\n",
       "      <td>-6929.865299</td>\n",
       "      <td>35</td>\n",
       "      <td>ВЫСШЕЕ</td>\n",
       "      <td>0</td>\n",
       "      <td>гражданский брак</td>\n",
       "      <td>1</td>\n",
       "      <td>F</td>\n",
       "      <td>сотрудник</td>\n",
       "      <td>0</td>\n",
       "      <td>95856.832424</td>\n",
       "      <td>на проведение свадьбы</td>\n",
       "    </tr>\n",
       "    <tr>\n",
       "      <th>9</th>\n",
       "      <td>0</td>\n",
       "      <td>-2188.756445</td>\n",
       "      <td>41</td>\n",
       "      <td>среднее</td>\n",
       "      <td>1</td>\n",
       "      <td>женат / замужем</td>\n",
       "      <td>0</td>\n",
       "      <td>M</td>\n",
       "      <td>сотрудник</td>\n",
       "      <td>0</td>\n",
       "      <td>144425.938277</td>\n",
       "      <td>покупка жилья для семьи</td>\n",
       "    </tr>\n",
       "    <tr>\n",
       "      <th>10</th>\n",
       "      <td>2</td>\n",
       "      <td>-4171.483647</td>\n",
       "      <td>36</td>\n",
       "      <td>высшее</td>\n",
       "      <td>0</td>\n",
       "      <td>женат / замужем</td>\n",
       "      <td>0</td>\n",
       "      <td>M</td>\n",
       "      <td>компаньон</td>\n",
       "      <td>0</td>\n",
       "      <td>113943.491460</td>\n",
       "      <td>покупка недвижимости</td>\n",
       "    </tr>\n",
       "    <tr>\n",
       "      <th>11</th>\n",
       "      <td>0</td>\n",
       "      <td>-792.701887</td>\n",
       "      <td>40</td>\n",
       "      <td>среднее</td>\n",
       "      <td>1</td>\n",
       "      <td>женат / замужем</td>\n",
       "      <td>0</td>\n",
       "      <td>F</td>\n",
       "      <td>сотрудник</td>\n",
       "      <td>0</td>\n",
       "      <td>77069.234271</td>\n",
       "      <td>покупка коммерческой недвижимости</td>\n",
       "    </tr>\n",
       "    <tr>\n",
       "      <th>12</th>\n",
       "      <td>0</td>\n",
       "      <td>NaN</td>\n",
       "      <td>65</td>\n",
       "      <td>среднее</td>\n",
       "      <td>1</td>\n",
       "      <td>гражданский брак</td>\n",
       "      <td>1</td>\n",
       "      <td>M</td>\n",
       "      <td>пенсионер</td>\n",
       "      <td>0</td>\n",
       "      <td>NaN</td>\n",
       "      <td>сыграть свадьбу</td>\n",
       "    </tr>\n",
       "    <tr>\n",
       "      <th>13</th>\n",
       "      <td>0</td>\n",
       "      <td>-1846.641941</td>\n",
       "      <td>54</td>\n",
       "      <td>неоконченное высшее</td>\n",
       "      <td>2</td>\n",
       "      <td>женат / замужем</td>\n",
       "      <td>0</td>\n",
       "      <td>F</td>\n",
       "      <td>сотрудник</td>\n",
       "      <td>0</td>\n",
       "      <td>130458.228857</td>\n",
       "      <td>приобретение автомобиля</td>\n",
       "    </tr>\n",
       "    <tr>\n",
       "      <th>14</th>\n",
       "      <td>0</td>\n",
       "      <td>-1844.956182</td>\n",
       "      <td>56</td>\n",
       "      <td>высшее</td>\n",
       "      <td>0</td>\n",
       "      <td>гражданский брак</td>\n",
       "      <td>1</td>\n",
       "      <td>F</td>\n",
       "      <td>компаньон</td>\n",
       "      <td>1</td>\n",
       "      <td>165127.911772</td>\n",
       "      <td>покупка жилой недвижимости</td>\n",
       "    </tr>\n",
       "    <tr>\n",
       "      <th>15</th>\n",
       "      <td>1</td>\n",
       "      <td>-972.364419</td>\n",
       "      <td>26</td>\n",
       "      <td>среднее</td>\n",
       "      <td>1</td>\n",
       "      <td>женат / замужем</td>\n",
       "      <td>0</td>\n",
       "      <td>F</td>\n",
       "      <td>сотрудник</td>\n",
       "      <td>0</td>\n",
       "      <td>116820.904450</td>\n",
       "      <td>строительство собственной недвижимости</td>\n",
       "    </tr>\n",
       "    <tr>\n",
       "      <th>16</th>\n",
       "      <td>0</td>\n",
       "      <td>-1719.934226</td>\n",
       "      <td>35</td>\n",
       "      <td>среднее</td>\n",
       "      <td>1</td>\n",
       "      <td>женат / замужем</td>\n",
       "      <td>0</td>\n",
       "      <td>F</td>\n",
       "      <td>сотрудник</td>\n",
       "      <td>0</td>\n",
       "      <td>289202.704229</td>\n",
       "      <td>недвижимость</td>\n",
       "    </tr>\n",
       "    <tr>\n",
       "      <th>17</th>\n",
       "      <td>0</td>\n",
       "      <td>-2369.999720</td>\n",
       "      <td>33</td>\n",
       "      <td>высшее</td>\n",
       "      <td>0</td>\n",
       "      <td>гражданский брак</td>\n",
       "      <td>1</td>\n",
       "      <td>M</td>\n",
       "      <td>сотрудник</td>\n",
       "      <td>0</td>\n",
       "      <td>90410.586745</td>\n",
       "      <td>строительство недвижимости</td>\n",
       "    </tr>\n",
       "    <tr>\n",
       "      <th>18</th>\n",
       "      <td>0</td>\n",
       "      <td>400281.136913</td>\n",
       "      <td>53</td>\n",
       "      <td>среднее</td>\n",
       "      <td>1</td>\n",
       "      <td>вдовец / вдова</td>\n",
       "      <td>2</td>\n",
       "      <td>F</td>\n",
       "      <td>пенсионер</td>\n",
       "      <td>0</td>\n",
       "      <td>56823.777243</td>\n",
       "      <td>на покупку подержанного автомобиля</td>\n",
       "    </tr>\n",
       "    <tr>\n",
       "      <th>19</th>\n",
       "      <td>0</td>\n",
       "      <td>-10038.818549</td>\n",
       "      <td>48</td>\n",
       "      <td>СРЕДНЕЕ</td>\n",
       "      <td>1</td>\n",
       "      <td>в разводе</td>\n",
       "      <td>3</td>\n",
       "      <td>F</td>\n",
       "      <td>сотрудник</td>\n",
       "      <td>0</td>\n",
       "      <td>242831.107982</td>\n",
       "      <td>на покупку своего автомобиля</td>\n",
       "    </tr>\n",
       "  </tbody>\n",
       "</table>\n",
       "</div>"
      ],
      "text/plain": [
       "    children  days_employed  dob_years            education  education_id  \\\n",
       "0          1   -8437.673028         42               высшее             0   \n",
       "1          1   -4024.803754         36              среднее             1   \n",
       "2          0   -5623.422610         33              Среднее             1   \n",
       "3          3   -4124.747207         32              среднее             1   \n",
       "4          0  340266.072047         53              среднее             1   \n",
       "5          0    -926.185831         27               высшее             0   \n",
       "6          0   -2879.202052         43               высшее             0   \n",
       "7          0    -152.779569         50              СРЕДНЕЕ             1   \n",
       "8          2   -6929.865299         35               ВЫСШЕЕ             0   \n",
       "9          0   -2188.756445         41              среднее             1   \n",
       "10         2   -4171.483647         36               высшее             0   \n",
       "11         0    -792.701887         40              среднее             1   \n",
       "12         0            NaN         65              среднее             1   \n",
       "13         0   -1846.641941         54  неоконченное высшее             2   \n",
       "14         0   -1844.956182         56               высшее             0   \n",
       "15         1    -972.364419         26              среднее             1   \n",
       "16         0   -1719.934226         35              среднее             1   \n",
       "17         0   -2369.999720         33               высшее             0   \n",
       "18         0  400281.136913         53              среднее             1   \n",
       "19         0  -10038.818549         48              СРЕДНЕЕ             1   \n",
       "\n",
       "       family_status  family_status_id gender income_type  debt  \\\n",
       "0    женат / замужем                 0      F   сотрудник     0   \n",
       "1    женат / замужем                 0      F   сотрудник     0   \n",
       "2    женат / замужем                 0      M   сотрудник     0   \n",
       "3    женат / замужем                 0      M   сотрудник     0   \n",
       "4   гражданский брак                 1      F   пенсионер     0   \n",
       "5   гражданский брак                 1      M   компаньон     0   \n",
       "6    женат / замужем                 0      F   компаньон     0   \n",
       "7    женат / замужем                 0      M   сотрудник     0   \n",
       "8   гражданский брак                 1      F   сотрудник     0   \n",
       "9    женат / замужем                 0      M   сотрудник     0   \n",
       "10   женат / замужем                 0      M   компаньон     0   \n",
       "11   женат / замужем                 0      F   сотрудник     0   \n",
       "12  гражданский брак                 1      M   пенсионер     0   \n",
       "13   женат / замужем                 0      F   сотрудник     0   \n",
       "14  гражданский брак                 1      F   компаньон     1   \n",
       "15   женат / замужем                 0      F   сотрудник     0   \n",
       "16   женат / замужем                 0      F   сотрудник     0   \n",
       "17  гражданский брак                 1      M   сотрудник     0   \n",
       "18    вдовец / вдова                 2      F   пенсионер     0   \n",
       "19         в разводе                 3      F   сотрудник     0   \n",
       "\n",
       "     total_income                                 purpose  \n",
       "0   253875.639453                           покупка жилья  \n",
       "1   112080.014102                 приобретение автомобиля  \n",
       "2   145885.952297                           покупка жилья  \n",
       "3   267628.550329              дополнительное образование  \n",
       "4   158616.077870                         сыграть свадьбу  \n",
       "5   255763.565419                           покупка жилья  \n",
       "6   240525.971920                       операции с жильем  \n",
       "7   135823.934197                             образование  \n",
       "8    95856.832424                   на проведение свадьбы  \n",
       "9   144425.938277                 покупка жилья для семьи  \n",
       "10  113943.491460                    покупка недвижимости  \n",
       "11   77069.234271       покупка коммерческой недвижимости  \n",
       "12            NaN                         сыграть свадьбу  \n",
       "13  130458.228857                 приобретение автомобиля  \n",
       "14  165127.911772              покупка жилой недвижимости  \n",
       "15  116820.904450  строительство собственной недвижимости  \n",
       "16  289202.704229                            недвижимость  \n",
       "17   90410.586745              строительство недвижимости  \n",
       "18   56823.777243      на покупку подержанного автомобиля  \n",
       "19  242831.107982            на покупку своего автомобиля  "
      ]
     },
     "execution_count": 2,
     "metadata": {},
     "output_type": "execute_result"
    }
   ],
   "source": [
    "data.head(20)"
   ]
  },
  {
   "cell_type": "markdown",
   "id": "4805e1bc",
   "metadata": {
    "deletable": false,
    "editable": false,
    "id": "1c12e233"
   },
   "source": [
    "**Задание 3. Выведите основную информацию о датафрейме с помощью метода `info()`.**"
   ]
  },
  {
   "cell_type": "code",
   "execution_count": 3,
   "id": "46cf2e0d",
   "metadata": {
    "deletable": false,
    "id": "2b757bca",
    "outputId": "15376089-8dad-46c9-b520-c05248d43158"
   },
   "outputs": [
    {
     "name": "stdout",
     "output_type": "stream",
     "text": [
      "<class 'pandas.core.frame.DataFrame'>\n",
      "RangeIndex: 21525 entries, 0 to 21524\n",
      "Data columns (total 12 columns):\n",
      " #   Column            Non-Null Count  Dtype  \n",
      "---  ------            --------------  -----  \n",
      " 0   children          21525 non-null  int64  \n",
      " 1   days_employed     19351 non-null  float64\n",
      " 2   dob_years         21525 non-null  int64  \n",
      " 3   education         21525 non-null  object \n",
      " 4   education_id      21525 non-null  int64  \n",
      " 5   family_status     21525 non-null  object \n",
      " 6   family_status_id  21525 non-null  int64  \n",
      " 7   gender            21525 non-null  object \n",
      " 8   income_type       21525 non-null  object \n",
      " 9   debt              21525 non-null  int64  \n",
      " 10  total_income      19351 non-null  float64\n",
      " 11  purpose           21525 non-null  object \n",
      "dtypes: float64(2), int64(5), object(5)\n",
      "memory usage: 2.0+ MB\n"
     ]
    }
   ],
   "source": [
    "data.info()"
   ]
  },
  {
   "cell_type": "markdown",
   "id": "263103d2",
   "metadata": {
    "deletable": false,
    "editable": false,
    "id": "333ec665"
   },
   "source": [
    "## Предобработка данных"
   ]
  },
  {
   "cell_type": "markdown",
   "id": "a9c813ab",
   "metadata": {
    "deletable": false,
    "editable": false,
    "id": "02d92d53"
   },
   "source": [
    "### Удаление пропусков"
   ]
  },
  {
   "cell_type": "markdown",
   "id": "262ea6bb",
   "metadata": {
    "deletable": false,
    "editable": false,
    "id": "cd84967c"
   },
   "source": [
    "**Задание 4. Выведите количество пропущенных значений для каждого столбца. Используйте комбинацию двух методов.**"
   ]
  },
  {
   "cell_type": "code",
   "execution_count": 4,
   "id": "0f89aa43",
   "metadata": {
    "deletable": false,
    "id": "7f9b2309",
    "outputId": "81f4d817-781c-465c-ed15-91ce4446810d"
   },
   "outputs": [
    {
     "data": {
      "text/plain": [
       "children               0\n",
       "days_employed       2174\n",
       "dob_years              0\n",
       "education              0\n",
       "education_id           0\n",
       "family_status          0\n",
       "family_status_id       0\n",
       "gender                 0\n",
       "income_type            0\n",
       "debt                   0\n",
       "total_income        2174\n",
       "purpose                0\n",
       "dtype: int64"
      ]
     },
     "execution_count": 4,
     "metadata": {},
     "output_type": "execute_result"
    }
   ],
   "source": [
    "data.isna().sum()"
   ]
  },
  {
   "cell_type": "markdown",
   "id": "c955ba72",
   "metadata": {
    "deletable": false,
    "editable": false,
    "id": "db86e27b"
   },
   "source": [
    "**Задание 5. В двух столбцах есть пропущенные значения. Один из них — `days_employed`. Пропуски в этом столбце вы обработаете на следующем этапе. Другой столбец с пропущенными значениями — `total_income` — хранит данные о доходах. На сумму дохода сильнее всего влияет тип занятости, поэтому заполнить пропуски в этом столбце нужно медианным значением по каждому типу из столбца `income_type`. Например, у человека с типом занятости `сотрудник` пропуск в столбце `total_income` должен быть заполнен медианным доходом среди всех записей с тем же типом.**"
   ]
  },
  {
   "cell_type": "code",
   "execution_count": 5,
   "id": "cb678380",
   "metadata": {
    "deletable": false,
    "id": "42006a93"
   },
   "outputs": [],
   "source": [
    "for t in data['income_type'].unique():\n",
    "    data.loc[(data['income_type'] == t) & (data['total_income'].isna()), 'total_income'] = \\\n",
    "    data.loc[(data['income_type'] == t), 'total_income'].median()"
   ]
  },
  {
   "cell_type": "markdown",
   "id": "3f310f7e",
   "metadata": {
    "deletable": false,
    "editable": false,
    "id": "89da5ece"
   },
   "source": [
    "### Обработка аномальных значений"
   ]
  },
  {
   "cell_type": "markdown",
   "id": "d7bc080f",
   "metadata": {
    "deletable": false,
    "editable": false,
    "id": "57964554"
   },
   "source": [
    "**Задание 6. В данных могут встречаться артефакты (аномалии) — значения, которые не отражают действительность и появились по какой-то ошибке. таким артефактом будет отрицательное количество дней трудового стажа в столбце `days_employed`. Для реальных данных это нормально. Обработайте значения в этом столбце: замените все отрицательные значения положительными с помощью метода `abs()`.**"
   ]
  },
  {
   "cell_type": "code",
   "execution_count": 6,
   "id": "393350e2",
   "metadata": {
    "deletable": false,
    "id": "f6f055bf"
   },
   "outputs": [],
   "source": [
    "data['days_employed'] = data['days_employed'].abs()"
   ]
  },
  {
   "cell_type": "markdown",
   "id": "67dd6756",
   "metadata": {
    "deletable": false,
    "editable": false,
    "id": "6107dd2f"
   },
   "source": [
    "**Задание 7. Для каждого типа занятости выведите медианное значение трудового стажа `days_employed` в днях.**"
   ]
  },
  {
   "cell_type": "code",
   "execution_count": 7,
   "id": "5efafcf2",
   "metadata": {
    "deletable": false,
    "id": "85a5faf6",
    "outputId": "801ef80e-522b-4668-f34e-565af7432bcf"
   },
   "outputs": [
    {
     "data": {
      "text/plain": [
       "income_type\n",
       "безработный        366413.652744\n",
       "в декрете            3296.759962\n",
       "госслужащий          2689.368353\n",
       "компаньон            1547.382223\n",
       "пенсионер          365213.306266\n",
       "предприниматель       520.848083\n",
       "сотрудник            1574.202821\n",
       "студент               578.751554\n",
       "Name: days_employed, dtype: float64"
      ]
     },
     "execution_count": 7,
     "metadata": {},
     "output_type": "execute_result"
    }
   ],
   "source": [
    "data.groupby('income_type')['days_employed'].agg('median')"
   ]
  },
  {
   "cell_type": "markdown",
   "id": "fff840c3",
   "metadata": {
    "deletable": false,
    "editable": false,
    "id": "38d1a030"
   },
   "source": [
    "У двух типов (безработные и пенсионеры) получатся аномально большие значения. Исправить такие значения сложно, поэтому оставьте их как есть. Тем более этот столбец не понадобится вам для исследования."
   ]
  },
  {
   "cell_type": "markdown",
   "id": "ad38c11c",
   "metadata": {
    "deletable": false,
    "editable": false,
    "id": "d8a9f147"
   },
   "source": [
    "**Задание 8. Выведите перечень уникальных значений столбца `children`.**"
   ]
  },
  {
   "cell_type": "code",
   "execution_count": 8,
   "id": "ee37f82e",
   "metadata": {
    "deletable": false,
    "id": "ef5056eb",
    "outputId": "6975b15c-7f95-4697-d16d-a0c79b657b03"
   },
   "outputs": [
    {
     "data": {
      "text/plain": [
       "array([ 1,  0,  3,  2, -1,  4, 20,  5])"
      ]
     },
     "execution_count": 8,
     "metadata": {},
     "output_type": "execute_result"
    }
   ],
   "source": [
    "data['children'].unique()"
   ]
  },
  {
   "cell_type": "markdown",
   "id": "ae2379c2",
   "metadata": {
    "deletable": false,
    "editable": false,
    "id": "40b9ebf2"
   },
   "source": [
    "**Задание 9. В столбце `children` есть два аномальных значения. Удалите строки, в которых встречаются такие аномальные значения из датафрейма `data`.**"
   ]
  },
  {
   "cell_type": "code",
   "execution_count": 9,
   "id": "dca5ae72",
   "metadata": {
    "deletable": false,
    "id": "3ff9801d"
   },
   "outputs": [],
   "source": [
    "data = data[(data['children'] != -1) & (data['children'] != 20)]"
   ]
  },
  {
   "cell_type": "markdown",
   "id": "6085d362",
   "metadata": {
    "deletable": false,
    "editable": false,
    "id": "bbc4d0ce"
   },
   "source": [
    "**Задание 10. Ещё раз выведите перечень уникальных значений столбца `children`, чтобы убедиться, что артефакты удалены.**"
   ]
  },
  {
   "cell_type": "code",
   "execution_count": 10,
   "id": "68645f13",
   "metadata": {
    "deletable": false,
    "id": "ad4fa8b7",
    "outputId": "b2097101-d49d-44d9-901b-32a65c9463d1"
   },
   "outputs": [
    {
     "data": {
      "text/plain": [
       "array([1, 0, 3, 2, 4, 5])"
      ]
     },
     "execution_count": 10,
     "metadata": {},
     "output_type": "execute_result"
    }
   ],
   "source": [
    "data['children'].unique()"
   ]
  },
  {
   "cell_type": "markdown",
   "id": "d60e3c40",
   "metadata": {
    "deletable": false,
    "editable": false,
    "id": "75440b63"
   },
   "source": [
    "### Удаление пропусков (продолжение)"
   ]
  },
  {
   "cell_type": "markdown",
   "id": "671d2802",
   "metadata": {
    "deletable": false,
    "editable": false,
    "id": "f4ea573f"
   },
   "source": [
    "**Задание 11. Заполните пропуски в столбце `days_employed` медианными значениями по каждого типа занятости `income_type`.**"
   ]
  },
  {
   "cell_type": "code",
   "execution_count": 11,
   "id": "de1d71f3",
   "metadata": {
    "deletable": false,
    "id": "af6b1a7e"
   },
   "outputs": [],
   "source": [
    "for t in data['income_type'].unique():\n",
    "    data.loc[(data['income_type'] == t) & (data['days_employed'].isna()), 'days_employed'] = \\\n",
    "    data.loc[(data['income_type'] == t), 'days_employed'].median()"
   ]
  },
  {
   "cell_type": "markdown",
   "id": "03c289ef",
   "metadata": {
    "deletable": false,
    "editable": false,
    "id": "2753f40d"
   },
   "source": [
    "**Задание 12. Убедитесь, что все пропуски заполнены. Проверьте себя и ещё раз выведите количество пропущенных значений для каждого столбца с помощью двух методов.**"
   ]
  },
  {
   "cell_type": "code",
   "execution_count": 12,
   "id": "2c749f4e",
   "metadata": {
    "deletable": false,
    "id": "55f78bc2",
    "outputId": "8da1e4e1-358e-4e87-98c9-f261bce0a7b2"
   },
   "outputs": [
    {
     "data": {
      "text/plain": [
       "children            0\n",
       "days_employed       0\n",
       "dob_years           0\n",
       "education           0\n",
       "education_id        0\n",
       "family_status       0\n",
       "family_status_id    0\n",
       "gender              0\n",
       "income_type         0\n",
       "debt                0\n",
       "total_income        0\n",
       "purpose             0\n",
       "dtype: int64"
      ]
     },
     "execution_count": 12,
     "metadata": {},
     "output_type": "execute_result"
    }
   ],
   "source": [
    "data.isna().sum()"
   ]
  },
  {
   "cell_type": "markdown",
   "id": "faf67a13",
   "metadata": {
    "deletable": false,
    "editable": false,
    "id": "ddc81e43"
   },
   "source": [
    "### Изменение типов данных"
   ]
  },
  {
   "cell_type": "markdown",
   "id": "41175e88",
   "metadata": {
    "deletable": false,
    "editable": false,
    "id": "42d19d24"
   },
   "source": [
    "**Задание 13. Замените вещественный тип данных в столбце `total_income` на целочисленный с помощью метода `astype()`.**"
   ]
  },
  {
   "cell_type": "code",
   "execution_count": 13,
   "id": "84850796",
   "metadata": {
    "deletable": false,
    "id": "920b65ad"
   },
   "outputs": [],
   "source": [
    "data['total_income'] = data['total_income'].astype(int)"
   ]
  },
  {
   "cell_type": "markdown",
   "id": "782c2b36",
   "metadata": {
    "deletable": false,
    "editable": false,
    "id": "80c420ba"
   },
   "source": [
    "### Обработка дубликатов"
   ]
  },
  {
   "cell_type": "markdown",
   "id": "8cd313a7",
   "metadata": {
    "deletable": false,
    "editable": false
   },
   "source": [
    "**Задание 14. Обработайте неявные дубликаты в столбце `education`. В этом столбце есть одни и те же значения, но записанные по-разному: с использованием заглавных и строчных букв. Приведите их к нижнему регистру. Проверьте остальные столбцы.**"
   ]
  },
  {
   "cell_type": "code",
   "execution_count": 14,
   "id": "22b33c63",
   "metadata": {
    "deletable": false
   },
   "outputs": [],
   "source": [
    "data['education'] = data['education'].str.lower()"
   ]
  },
  {
   "cell_type": "markdown",
   "id": "42bb155e",
   "metadata": {
    "deletable": false,
    "editable": false,
    "id": "dc587695"
   },
   "source": [
    "**Задание 15. Выведите на экран количество строк-дубликатов в данных. Если такие строки присутствуют, удалите их.**"
   ]
  },
  {
   "cell_type": "code",
   "execution_count": 15,
   "id": "fb2cde55",
   "metadata": {
    "deletable": false,
    "id": "3ee445e4",
    "outputId": "9684deba-1934-42d1-99e1-cda61740f822"
   },
   "outputs": [
    {
     "data": {
      "text/plain": [
       "71"
      ]
     },
     "execution_count": 15,
     "metadata": {},
     "output_type": "execute_result"
    }
   ],
   "source": [
    "data.duplicated().sum()"
   ]
  },
  {
   "cell_type": "code",
   "execution_count": 16,
   "id": "03ab327e",
   "metadata": {
    "deletable": false,
    "id": "8575fe05"
   },
   "outputs": [],
   "source": [
    "data = data.drop_duplicates()"
   ]
  },
  {
   "cell_type": "markdown",
   "id": "53f1b9bf",
   "metadata": {
    "deletable": false,
    "editable": false,
    "id": "9904cf55"
   },
   "source": [
    "### Категоризация данных"
   ]
  },
  {
   "cell_type": "markdown",
   "id": "a75a0c35",
   "metadata": {
    "deletable": false,
    "editable": false,
    "id": "72fcc8a2"
   },
   "source": [
    "**Задание 16. На основании диапазонов, указанных ниже, создайте в датафрейме `data` столбец `total_income_category` с категориями:**\n",
    "\n",
    "- 0–30000 — `'E'`;\n",
    "- 30001–50000 — `'D'`;\n",
    "- 50001–200000 — `'C'`;\n",
    "- 200001–1000000 — `'B'`;\n",
    "- 1000001 и выше — `'A'`.\n",
    "\n",
    "\n",
    "**Например, кредитополучателю с доходом 25000 нужно назначить категорию `'E'`, а клиенту, получающему 235000, — `'B'`. Используйте собственную функцию с именем `categorize_income()` и метод `apply()`.**"
   ]
  },
  {
   "cell_type": "code",
   "execution_count": 17,
   "id": "450d9266",
   "metadata": {
    "deletable": false,
    "id": "e1771346"
   },
   "outputs": [],
   "source": [
    "def categorize_income(income):\n",
    "    try:\n",
    "        if 0 <= income <= 30000:\n",
    "            return 'E'\n",
    "        elif 30001 <= income <= 50000:\n",
    "            return 'D'\n",
    "        elif 50001 <= income <= 200000:\n",
    "            return 'C'\n",
    "        elif 200001 <= income <= 1000000:\n",
    "            return 'B'\n",
    "        elif income >= 1000001:\n",
    "            return 'A'\n",
    "    except:\n",
    "        pass"
   ]
  },
  {
   "cell_type": "code",
   "execution_count": 18,
   "id": "16e09939",
   "metadata": {
    "deletable": false,
    "id": "d5f3586d"
   },
   "outputs": [],
   "source": [
    "data['total_income_category'] = data['total_income'].apply(categorize_income)"
   ]
  },
  {
   "cell_type": "markdown",
   "id": "37e75775",
   "metadata": {
    "deletable": false,
    "editable": false,
    "id": "dde49b5c"
   },
   "source": [
    "**Задание 17. Выведите на экран перечень уникальных целей взятия кредита из столбца `purpose`.**"
   ]
  },
  {
   "cell_type": "code",
   "execution_count": 19,
   "id": "4e980575",
   "metadata": {
    "deletable": false,
    "id": "f67ce9b3",
    "outputId": "673c12d9-7d7e-4ae0-9812-c622c89dd244"
   },
   "outputs": [
    {
     "data": {
      "text/plain": [
       "array(['покупка жилья', 'приобретение автомобиля',\n",
       "       'дополнительное образование', 'сыграть свадьбу',\n",
       "       'операции с жильем', 'образование', 'на проведение свадьбы',\n",
       "       'покупка жилья для семьи', 'покупка недвижимости',\n",
       "       'покупка коммерческой недвижимости', 'покупка жилой недвижимости',\n",
       "       'строительство собственной недвижимости', 'недвижимость',\n",
       "       'строительство недвижимости', 'на покупку подержанного автомобиля',\n",
       "       'на покупку своего автомобиля',\n",
       "       'операции с коммерческой недвижимостью',\n",
       "       'строительство жилой недвижимости', 'жилье',\n",
       "       'операции со своей недвижимостью', 'автомобили',\n",
       "       'заняться образованием', 'сделка с подержанным автомобилем',\n",
       "       'получение образования', 'автомобиль', 'свадьба',\n",
       "       'получение дополнительного образования', 'покупка своего жилья',\n",
       "       'операции с недвижимостью', 'получение высшего образования',\n",
       "       'свой автомобиль', 'сделка с автомобилем',\n",
       "       'профильное образование', 'высшее образование',\n",
       "       'покупка жилья для сдачи', 'на покупку автомобиля', 'ремонт жилью',\n",
       "       'заняться высшим образованием'], dtype=object)"
      ]
     },
     "execution_count": 19,
     "metadata": {},
     "output_type": "execute_result"
    }
   ],
   "source": [
    "data['purpose'].unique()"
   ]
  },
  {
   "cell_type": "markdown",
   "id": "0c56928d",
   "metadata": {
    "deletable": false,
    "editable": false,
    "id": "85d0aef0"
   },
   "source": [
    "**Задание 18. Создайте функцию, которая на основании данных из столбца `purpose` сформирует новый столбец `purpose_category`, в который войдут следующие категории:**\n",
    "\n",
    "- `'операции с автомобилем'`,\n",
    "- `'операции с недвижимостью'`,\n",
    "- `'проведение свадьбы'`,\n",
    "- `'получение образования'`.\n",
    "\n",
    "**Например, если в столбце `purpose` находится подстрока `'на покупку автомобиля'`, то в столбце `purpose_category` должна появиться строка `'операции с автомобилем'`.**\n",
    "\n",
    "**Используйте собственную функцию с именем `categorize_purpose()` и метод `apply()`. Изучите данные в столбце `purpose` и определите, какие подстроки помогут вам правильно определить категорию.**"
   ]
  },
  {
   "cell_type": "code",
   "execution_count": 20,
   "id": "fedbbeb3",
   "metadata": {
    "deletable": false,
    "id": "e149fab4"
   },
   "outputs": [],
   "source": [
    "def categorize_purpose(row):\n",
    "    try:\n",
    "        if 'автом' in row:\n",
    "            return 'операции с автомобилем'\n",
    "        elif 'жил' in row or 'недвиж' in row:\n",
    "            return 'операции с недвижимостью'\n",
    "        elif 'свад' in row:\n",
    "            return 'проведение свадьбы'\n",
    "        elif 'образов' in row:\n",
    "            return 'получение образования'\n",
    "    except:\n",
    "        return 'нет категории'"
   ]
  },
  {
   "cell_type": "code",
   "execution_count": 21,
   "id": "1026e298",
   "metadata": {
    "deletable": false,
    "id": "bf36e69b"
   },
   "outputs": [],
   "source": [
    "data['purpose_category'] = data['purpose'].apply(categorize_purpose)"
   ]
  },
  {
   "cell_type": "markdown",
   "id": "92f6feeb",
   "metadata": {
    "deletable": false,
    "editable": false,
    "id": "09b242bf"
   },
   "source": [
    "### Шаг 3. Исследуйте данные и ответьте на вопросы"
   ]
  },
  {
   "cell_type": "markdown",
   "id": "6732d3f9",
   "metadata": {
    "deletable": false,
    "editable": false,
    "id": "c5d66278"
   },
   "source": [
    "#### 3.1 Есть ли зависимость между количеством детей и возвратом кредита в срок?"
   ]
  },
  {
   "cell_type": "code",
   "execution_count": 22,
   "id": "3433c818",
   "metadata": {
    "deletable": false,
    "id": "2cacfc4a"
   },
   "outputs": [],
   "source": [
    "# Мы знаем, что количество детей варьируется от 0 до 5. Разобьём всех клиентов на 3 категории (бездетные - 0, обычные - 1-2,\n",
    "# многодетные - 3+) и посмотрим,сколько должников в процентном соотношении будет в каждой.\n",
    "def categorize_children(children):\n",
    "    try:\n",
    "        if children == 0:\n",
    "            return 'бездетные'\n",
    "        elif 1 <= children <= 2:\n",
    "            return 'обычные'\n",
    "        elif children >= 3:\n",
    "            return 'многодетные'\n",
    "    except:\n",
    "        pass"
   ]
  },
  {
   "cell_type": "code",
   "execution_count": 23,
   "id": "82e7f43e",
   "metadata": {},
   "outputs": [],
   "source": [
    "data['children_category'] = data['children'].apply(categorize_children) # Создадим новую колонку с классифивкацией по детям."
   ]
  },
  {
   "cell_type": "code",
   "execution_count": 24,
   "id": "c287a619",
   "metadata": {},
   "outputs": [
    {
     "name": "stdout",
     "output_type": "stream",
     "text": [
      "                    debt       children_conversion\n",
      "                   count   sum                    \n",
      "children_category                                 \n",
      "бездетные          14091  1063            0.075438\n",
      "многодетные          380    31            0.081579\n",
      "обычные             6860   638            0.093003\n"
     ]
    }
   ],
   "source": [
    "# Воспользуемся группировкой с агрегацией по новому столбцу, после чего вычислим отношение клиентов с просрочкой \n",
    "# к их общему количеству.\n",
    "\n",
    "logs_grouped = data.groupby('children_category').agg({'debt': ['count', 'sum']})\n",
    "\n",
    "logs_grouped['children_conversion'] = logs_grouped['debt']['sum'] / logs_grouped['debt']['count']\n",
    "print(logs_grouped)"
   ]
  },
  {
   "cell_type": "markdown",
   "id": "8b7b4601",
   "metadata": {
    "deletable": false,
    "id": "3a6b99ec"
   },
   "source": [
    "**Вывод: несмотря на разное количество представителей каждой категории, процент задолженностей оказался примерно одинаковым. \n",
    "Отсюда можно сделать вывод, что количество детей не является прямым показателем надёжности клиента. Из интересных фактов можно отметить, что люди без детей берут кредит куда охотнее, нежели те, кто имеет хотя бы 1 ребёнка.** "
   ]
  },
  {
   "cell_type": "markdown",
   "id": "b23b5826",
   "metadata": {
    "deletable": false,
    "editable": false,
    "id": "97be82ca"
   },
   "source": [
    "#### 3.2 Есть ли зависимость между семейным положением и возвратом кредита в срок?"
   ]
  },
  {
   "cell_type": "code",
   "execution_count": 25,
   "id": "8285d1ef",
   "metadata": {},
   "outputs": [
    {
     "name": "stdout",
     "output_type": "stream",
     "text": [
      "['женат / замужем' 'гражданский брак' 'вдовец / вдова' 'в разводе'\n",
      " 'Не женат / не замужем']\n",
      "[0 1 2 3 4]\n"
     ]
    }
   ],
   "source": [
    "# Выясним, какую классификацию придумали составители таблицы.\n",
    "print(data['family_status'].unique())\n",
    "print(data['family_status_id'].unique())"
   ]
  },
  {
   "cell_type": "code",
   "execution_count": 26,
   "id": "ca7604b5",
   "metadata": {
    "deletable": false,
    "id": "dc3f7ee8",
    "scrolled": true
   },
   "outputs": [
    {
     "data": {
      "text/plain": [
       "family_status_id\n",
       "0    12261\n",
       "1     4134\n",
       "2      951\n",
       "3     1189\n",
       "4     2796\n",
       "Name: debt, dtype: int64"
      ]
     },
     "execution_count": 26,
     "metadata": {},
     "output_type": "execute_result"
    }
   ],
   "source": [
    "# Мы знаем, что всего по семейному положению выделяется 5 категорий: 0 - женат/замужем, 1 - гражданский брак, 2 - вдовец/вдова,\n",
    "# 3 - в разводе, 4 - не женат/не замужем.\n",
    "# Узнаем, сколько представителей каждой имеется.\n",
    "data.groupby('family_status_id')['debt'].count()"
   ]
  },
  {
   "cell_type": "code",
   "execution_count": 27,
   "id": "99659c64",
   "metadata": {},
   "outputs": [
    {
     "name": "stdout",
     "output_type": "stream",
     "text": [
      "                   debt      family_status_conversion\n",
      "                  count  sum                         \n",
      "family_status_id                                     \n",
      "0                 12261  927                 0.075606\n",
      "1                  4134  385                 0.093130\n",
      "2                   951   63                 0.066246\n",
      "3                  1189   84                 0.070648\n",
      "4                  2796  273                 0.097639\n"
     ]
    }
   ],
   "source": [
    "# Воспользуемся группировкой с агрегацией по новому столбцу, после чего вычислим отношение клиентов с просрочкой \n",
    "# к их общему количеству.\n",
    "\n",
    "logs_grouped = data.groupby('family_status_id').agg({'debt': ['count', 'sum']})\n",
    "\n",
    "logs_grouped['family_status_conversion'] = logs_grouped['debt']['sum'] / logs_grouped['debt']['count']\n",
    "print(logs_grouped)"
   ]
  },
  {
   "cell_type": "markdown",
   "id": "0eba7488",
   "metadata": {
    "deletable": false,
    "id": "1cef7837"
   },
   "source": [
    "**Вывод: как и в случае с количеством детей, показатель семейного положения оказался косвенным признаком надёжности клиента. \n",
    "Процент по задолженностям среди категорий имеет разнос всего в 3%, что можно отнести к статистической погрешности. Из интересных фактов можно подметить, что больше половины кредитов приходится на людей, состоящих в \"условных\" отношениях.** "
   ]
  },
  {
   "cell_type": "markdown",
   "id": "6b2e72b5",
   "metadata": {
    "deletable": false,
    "editable": false,
    "id": "1e8b2fca"
   },
   "source": [
    "#### 3.3 Есть ли зависимость между уровнем дохода и возвратом кредита в срок?"
   ]
  },
  {
   "cell_type": "code",
   "execution_count": 28,
   "id": "28d52af9",
   "metadata": {
    "deletable": false,
    "id": "cd7e3720"
   },
   "outputs": [],
   "source": [
    "# Как и в случае с детьми, проанализируем клиентов по категориям, на которые мы их разбили в задании №16: \n",
    "# 0–30000 — 'E';\n",
    "# 30001–50000 — 'D';\n",
    "# 50001–200000 — 'C';\n",
    "# 200001–1000000 — 'B';\n",
    "# 1000001 и выше — 'A'."
   ]
  },
  {
   "cell_type": "code",
   "execution_count": 29,
   "id": "c7f28619",
   "metadata": {
    "scrolled": true
   },
   "outputs": [
    {
     "name": "stdout",
     "output_type": "stream",
     "text": [
      "                        debt       total_income_conversion\n",
      "                       count   sum                        \n",
      "total_income_category                                     \n",
      "A                         25     2                0.080000\n",
      "B                       5014   354                0.070602\n",
      "C                      15921  1353                0.084982\n",
      "D                        349    21                0.060172\n",
      "E                         22     2                0.090909\n"
     ]
    }
   ],
   "source": [
    "# Воспользуемся группировкой с агрегацией по новому столбцу, после чего вычислим отношение клиентов с просрочкой \n",
    "# к их общему количеству.\n",
    "\n",
    "logs_grouped = data.groupby('total_income_category').agg({'debt': ['count', 'sum']})\n",
    "\n",
    "logs_grouped['total_income_conversion'] = logs_grouped['debt']['sum'] / logs_grouped['debt']['count']\n",
    "print(logs_grouped)"
   ]
  },
  {
   "cell_type": "markdown",
   "id": "6d896294",
   "metadata": {
    "deletable": false,
    "id": "e8593def"
   },
   "source": [
    "**Вывод: данный показатель так же является косвенным для определения надёжности клиента, разброс значений составляет 3%. Можем отметить, что в целом кредиты чаще берут люди со средним доходом.** "
   ]
  },
  {
   "cell_type": "markdown",
   "id": "45f30c48",
   "metadata": {
    "deletable": false,
    "editable": false,
    "id": "99ecbd1f"
   },
   "source": [
    "#### 3.4 Как разные цели кредита влияют на его возврат в срок?"
   ]
  },
  {
   "cell_type": "code",
   "execution_count": null,
   "id": "cb6bf32d",
   "metadata": {
    "deletable": false,
    "id": "2b687290",
    "scrolled": false
   },
   "outputs": [],
   "source": []
  },
  {
   "cell_type": "code",
   "execution_count": 30,
   "id": "1b760db3",
   "metadata": {},
   "outputs": [
    {
     "name": "stdout",
     "output_type": "stream",
     "text": [
      "                           debt      purpose_conversion\n",
      "                          count  sum                   \n",
      "purpose_category                                       \n",
      "операции с автомобилем     4279  400           0.093480\n",
      "операции с недвижимостью  10751  780           0.072551\n",
      "получение образования      3988  369           0.092528\n",
      "проведение свадьбы         2313  183           0.079118\n"
     ]
    }
   ],
   "source": [
    "# В задании №18 мы уже разбили всех клиентов на категории по целям кредита. \n",
    "# Воспользуемся группировкой с агрегацией по новому столбцу, после чего вычислим отношение клиентов с просрочкой \n",
    "# к их общему количеству.\n",
    "\n",
    "logs_grouped = data.groupby('purpose_category').agg({'debt': ['count', 'sum']})\n",
    "\n",
    "logs_grouped['purpose_conversion'] = logs_grouped['debt']['sum'] / logs_grouped['debt']['count']\n",
    "print(logs_grouped)"
   ]
  },
  {
   "cell_type": "markdown",
   "id": "440352e6",
   "metadata": {
    "deletable": false,
    "id": "b4bb2ce6"
   },
   "source": [
    "**Вывод: результат аналогичен предыдущим. Единственное интересное замечание из этих результатов: больше всего кредиты берут для операций с недвижимостью, и неуплат по этой категории оказывается меньше всего.** "
   ]
  },
  {
   "cell_type": "markdown",
   "id": "dbdbb7b9",
   "metadata": {
    "deletable": false,
    "editable": false,
    "id": "09c3ac4c"
   },
   "source": [
    "#### 3.5 Приведите возможные причины появления пропусков в исходных данных."
   ]
  },
  {
   "cell_type": "markdown",
   "id": "39f94ea7",
   "metadata": {
    "deletable": false,
    "id": "9da2ceda"
   },
   "source": [
    "*Ответ: в исходных данных мы столкнулись с пропусками в столбцах с рабочим стажем и месячным доходом. Просмотрев строки с пропусками, можно прийти к выводу, что они неслучайны, так как относятся к пенсионерам (стаж есть, но он не важен, так как нет ежемесячного дохода) и безработным (нет ни стажа, ни дохода). Таким образом, ошибки в значениях NaN нет.* "
   ]
  },
  {
   "cell_type": "markdown",
   "id": "1d8fed16",
   "metadata": {
    "deletable": false,
    "editable": false,
    "id": "7b0487d6"
   },
   "source": [
    "#### 3.6 Объясните, почему заполнить пропуски медианным значением — лучшее решение для количественных переменных."
   ]
  },
  {
   "cell_type": "markdown",
   "id": "46dab46c",
   "metadata": {
    "deletable": false,
    "id": "7ecf2b8e"
   },
   "source": [
    "*Ответ: в данном случае мы не можем полностью избавиться от строк с пропущенными значениями, так как они в целом играют большую роль в анализе таблицы; поэтому, чтобы мы могли с ними работать, необходимо самим подставить туда значения, которые не будут противоречить исследованию. На примере ежемесячного дохода можно понять, что среднее значение пенсионерам и безработным поставить нельзя, так как оно слишком велико и это скажется на результате расчётов. Поэтому используем медианные значения.* "
   ]
  },
  {
   "cell_type": "markdown",
   "id": "fa3a5432",
   "metadata": {
    "deletable": false,
    "editable": false,
    "id": "6db5255a"
   },
   "source": [
    "### Шаг 4: общий вывод."
   ]
  },
  {
   "cell_type": "markdown",
   "id": "28adaddd",
   "metadata": {
    "deletable": false,
    "id": "bad65432"
   },
   "source": [
    "В ходе данной работы производилось исследование по таблице клиентов банка.\n",
    "\n",
    "При первичном осмотре были выявлены пропущенные и некорректные значения и дубликаты, осуществлена предобработка данных таблицы по устранению этих недостатков.\n",
    "\n",
    "Произведён анализ данных.\n",
    "\n",
    "Цель анализа: узнать, как влияют различные факторы (количество детей, семейное положение, уровень дохода, цель взятия кредита) на надёжность клиента банка. \n",
    "\n",
    "В ходе работы исходные данные были обработаны, поделены по новым независимым категориям. Результаты во всех случаях представлены новыми характерными колонками в исходной таблице, где представлены отношением клиентов с просрочкой к общему количеству клиентов.\n",
    "\n",
    "1) Как влияет количество детей на своевременную оплату кредита: несмотря на разное количество представителей каждой категории, процент задолженностей оказался примерно одинаковым (7,5 - 9,3%). Отсюда можно сделать вывод, что количество детей не является прямым показателем надёжности клиента. Из интересных фактов можно отметить, что люди без детей берут кредит куда охотнее, нежели те, кто имеет хотя бы 1 ребёнка.\n",
    "\n",
    "2) Как влияет семейное положение на своевременную оплату кредита: неуплата составляет от 6,6 до 9,7%; процент по задолженностям среди категорий имеет разнос всего в 3%, что можно отнести к статистической погрешности. Из интересных фактов можно подметить, что больше половины кредитов приходится на людей, состоящих в \"условных\" отношениях.\n",
    "\n",
    "3) Как влияет уровень дохода на своевременную оплату кредита: неуплата от 6 до 9%, разброс значений составляет 3%. Можем отметить, что в целом кредиты чаще берут люди со средним доходом.\n",
    "\n",
    "4) Как влияет цель взятия кредита на его своевременную оплату:  неуплата от 7,2 до 9,3%, разброс значений составляет 2%. Отметим, что больше всего кредиты берут для операций с недвижимостью, и неуплат по этой категории оказывается меньше всего.\n",
    "\n",
    "Таким образом, результаты показали, что ни один из исследуемых параметров не является прямым критерием надёжности, все различия можно отнести к статистической погрешности.\n",
    "\n",
    "Можно предположить, что судить о критерии надёжности через исследованные факторы представится возможным при учёте их совокупного влияния. Для подвтерждения данной теории рекомендуется провести дополнительный анализ данных."
   ]
  }
 ],
 "metadata": {
  "ExecuteTimeLog": [
   {
    "duration": 4,
    "start_time": "2023-11-06T10:00:00.316Z"
   },
   {
    "duration": 85,
    "start_time": "2023-11-06T10:07:59.757Z"
   },
   {
    "duration": 4,
    "start_time": "2023-11-06T10:08:04.922Z"
   },
   {
    "duration": 91,
    "start_time": "2023-11-06T10:08:30.543Z"
   },
   {
    "duration": 6,
    "start_time": "2023-11-06T10:08:36.671Z"
   },
   {
    "duration": 7,
    "start_time": "2023-11-06T10:08:38.811Z"
   },
   {
    "duration": 1222,
    "start_time": "2023-11-06T10:08:49.705Z"
   },
   {
    "duration": 31,
    "start_time": "2023-11-06T10:08:52.326Z"
   },
   {
    "duration": 26,
    "start_time": "2023-11-06T10:08:54.135Z"
   },
   {
    "duration": 16,
    "start_time": "2023-11-06T10:08:56.270Z"
   },
   {
    "duration": 61,
    "start_time": "2023-11-06T10:08:56.678Z"
   },
   {
    "duration": 5,
    "start_time": "2023-11-06T10:08:57.241Z"
   },
   {
    "duration": 11,
    "start_time": "2023-11-06T10:08:57.617Z"
   },
   {
    "duration": 5,
    "start_time": "2023-11-06T10:08:58.170Z"
   },
   {
    "duration": 13,
    "start_time": "2023-11-06T10:08:58.543Z"
   },
   {
    "duration": 8,
    "start_time": "2023-11-06T10:08:58.969Z"
   },
   {
    "duration": 34,
    "start_time": "2023-11-06T10:08:59.503Z"
   },
   {
    "duration": 12,
    "start_time": "2023-11-06T10:08:59.887Z"
   },
   {
    "duration": 5,
    "start_time": "2023-11-06T10:09:00.468Z"
   },
   {
    "duration": 19,
    "start_time": "2023-11-06T10:09:01.169Z"
   },
   {
    "duration": 20,
    "start_time": "2023-11-06T10:09:01.602Z"
   },
   {
    "duration": 24,
    "start_time": "2023-11-06T10:09:01.798Z"
   },
   {
    "duration": 5,
    "start_time": "2023-11-06T10:09:02.474Z"
   },
   {
    "duration": 12,
    "start_time": "2023-11-06T10:09:02.686Z"
   },
   {
    "duration": 9,
    "start_time": "2023-11-06T10:09:03.165Z"
   },
   {
    "duration": 4,
    "start_time": "2023-11-06T10:09:03.615Z"
   },
   {
    "duration": 21,
    "start_time": "2023-11-06T10:09:03.943Z"
   },
   {
    "duration": 3,
    "start_time": "2023-11-06T10:09:15.612Z"
   },
   {
    "duration": 8,
    "start_time": "2023-11-06T10:13:31.088Z"
   },
   {
    "duration": 25,
    "start_time": "2023-11-06T10:16:57.664Z"
   },
   {
    "duration": 8,
    "start_time": "2023-11-06T10:18:12.463Z"
   },
   {
    "duration": 27,
    "start_time": "2023-11-06T10:23:46.187Z"
   },
   {
    "duration": 20,
    "start_time": "2023-11-06T10:27:01.517Z"
   },
   {
    "duration": 8,
    "start_time": "2023-11-06T10:27:46.161Z"
   },
   {
    "duration": 34,
    "start_time": "2023-11-06T10:28:22.315Z"
   },
   {
    "duration": 790,
    "start_time": "2023-11-06T10:28:33.270Z"
   },
   {
    "duration": 41,
    "start_time": "2023-11-06T10:28:48.467Z"
   },
   {
    "duration": 17,
    "start_time": "2023-11-06T10:29:54.819Z"
   },
   {
    "duration": 9,
    "start_time": "2023-11-06T10:49:44.521Z"
   },
   {
    "duration": 48,
    "start_time": "2023-11-06T10:50:13.635Z"
   },
   {
    "duration": 10,
    "start_time": "2023-11-06T10:50:21.766Z"
   },
   {
    "duration": 52,
    "start_time": "2023-11-06T10:51:04.359Z"
   },
   {
    "duration": 12,
    "start_time": "2023-11-06T10:51:12.965Z"
   },
   {
    "duration": 13,
    "start_time": "2023-11-06T10:51:18.414Z"
   },
   {
    "duration": 11,
    "start_time": "2023-11-06T10:51:28.435Z"
   },
   {
    "duration": 38,
    "start_time": "2023-11-06T10:51:42.212Z"
   },
   {
    "duration": 90,
    "start_time": "2023-11-06T10:55:07.948Z"
   },
   {
    "duration": 68,
    "start_time": "2023-11-06T10:55:40.596Z"
   },
   {
    "duration": 75,
    "start_time": "2023-11-06T10:55:48.436Z"
   },
   {
    "duration": 75,
    "start_time": "2023-11-06T10:55:53.119Z"
   },
   {
    "duration": 9,
    "start_time": "2023-11-06T10:55:57.379Z"
   },
   {
    "duration": 12,
    "start_time": "2023-11-06T10:56:24.534Z"
   },
   {
    "duration": 89,
    "start_time": "2023-11-06T10:56:55.580Z"
   },
   {
    "duration": 8,
    "start_time": "2023-11-06T10:57:04.995Z"
   },
   {
    "duration": 25,
    "start_time": "2023-11-06T10:57:49.613Z"
   },
   {
    "duration": 18,
    "start_time": "2023-11-06T10:58:48.545Z"
   },
   {
    "duration": 15,
    "start_time": "2023-11-06T11:00:17.712Z"
   },
   {
    "duration": 37,
    "start_time": "2023-11-06T11:05:34.457Z"
   },
   {
    "duration": 8,
    "start_time": "2023-11-06T11:05:45.360Z"
   },
   {
    "duration": 7,
    "start_time": "2023-11-06T11:06:16.615Z"
   },
   {
    "duration": 10,
    "start_time": "2023-11-06T11:07:34.104Z"
   },
   {
    "duration": 9,
    "start_time": "2023-11-06T11:08:12.386Z"
   },
   {
    "duration": 13,
    "start_time": "2023-11-06T11:09:03.844Z"
   },
   {
    "duration": 44,
    "start_time": "2023-11-06T11:10:09.011Z"
   },
   {
    "duration": 12,
    "start_time": "2023-11-06T11:10:37.960Z"
   },
   {
    "duration": 12,
    "start_time": "2023-11-06T11:11:11.484Z"
   },
   {
    "duration": 121,
    "start_time": "2023-11-06T11:11:26.944Z"
   },
   {
    "duration": 96,
    "start_time": "2023-11-06T11:11:33.366Z"
   },
   {
    "duration": 11,
    "start_time": "2023-11-06T11:11:44.638Z"
   },
   {
    "duration": 7,
    "start_time": "2023-11-06T11:12:03.363Z"
   },
   {
    "duration": 40,
    "start_time": "2023-11-06T11:12:33.638Z"
   },
   {
    "duration": 52,
    "start_time": "2023-11-06T11:12:52.333Z"
   },
   {
    "duration": 46,
    "start_time": "2023-11-06T11:13:55.014Z"
   },
   {
    "duration": 58,
    "start_time": "2023-11-06T11:14:03.340Z"
   },
   {
    "duration": 45,
    "start_time": "2023-11-06T11:14:13.722Z"
   },
   {
    "duration": 7,
    "start_time": "2023-11-06T11:15:41.561Z"
   },
   {
    "duration": 10,
    "start_time": "2023-11-06T11:15:55.960Z"
   },
   {
    "duration": 52,
    "start_time": "2023-11-06T11:18:14.738Z"
   },
   {
    "duration": 17,
    "start_time": "2023-11-06T11:18:25.241Z"
   },
   {
    "duration": 29,
    "start_time": "2023-11-06T11:19:02.986Z"
   },
   {
    "duration": 29,
    "start_time": "2023-11-06T11:19:27.986Z"
   },
   {
    "duration": 29,
    "start_time": "2023-11-06T11:19:36.713Z"
   },
   {
    "duration": 13,
    "start_time": "2023-11-06T11:19:40.179Z"
   },
   {
    "duration": 33,
    "start_time": "2023-11-06T11:21:24.560Z"
   },
   {
    "duration": 11,
    "start_time": "2023-11-06T11:21:27.768Z"
   },
   {
    "duration": 10,
    "start_time": "2023-11-06T11:21:53.162Z"
   },
   {
    "duration": 82,
    "start_time": "2023-11-06T11:23:33.594Z"
   },
   {
    "duration": 7,
    "start_time": "2023-11-06T11:23:40.724Z"
   },
   {
    "duration": 7,
    "start_time": "2023-11-06T11:23:52.981Z"
   },
   {
    "duration": 8,
    "start_time": "2023-11-06T11:24:14.490Z"
   },
   {
    "duration": 369,
    "start_time": "2023-11-06T11:24:31.156Z"
   },
   {
    "duration": 7,
    "start_time": "2023-11-06T11:25:31.871Z"
   },
   {
    "duration": 9,
    "start_time": "2023-11-06T11:26:12.333Z"
   },
   {
    "duration": 8,
    "start_time": "2023-11-06T11:26:20.185Z"
   },
   {
    "duration": 12,
    "start_time": "2023-11-06T11:26:32.342Z"
   },
   {
    "duration": 7,
    "start_time": "2023-11-06T11:26:51.698Z"
   },
   {
    "duration": 7,
    "start_time": "2023-11-06T11:27:05.358Z"
   },
   {
    "duration": 7,
    "start_time": "2023-11-06T11:28:20.661Z"
   },
   {
    "duration": 28,
    "start_time": "2023-11-06T11:33:18.593Z"
   },
   {
    "duration": 26,
    "start_time": "2023-11-06T11:36:30.158Z"
   },
   {
    "duration": 8,
    "start_time": "2023-11-06T11:36:31.956Z"
   },
   {
    "duration": 6,
    "start_time": "2023-11-06T11:41:03.059Z"
   },
   {
    "duration": 6,
    "start_time": "2023-11-06T11:42:56.698Z"
   },
   {
    "duration": 7,
    "start_time": "2023-11-06T11:43:14.479Z"
   },
   {
    "duration": 7,
    "start_time": "2023-11-06T11:45:51.104Z"
   },
   {
    "duration": 8,
    "start_time": "2023-11-06T11:51:35.478Z"
   },
   {
    "duration": 7,
    "start_time": "2023-11-06T11:52:15.106Z"
   },
   {
    "duration": 6,
    "start_time": "2023-11-06T11:52:56.851Z"
   },
   {
    "duration": 42,
    "start_time": "2023-11-06T11:54:52.590Z"
   },
   {
    "duration": 13,
    "start_time": "2023-11-06T11:54:54.205Z"
   },
   {
    "duration": 4,
    "start_time": "2023-11-06T12:17:27.788Z"
   },
   {
    "duration": 12,
    "start_time": "2023-11-06T12:19:16.988Z"
   },
   {
    "duration": 45,
    "start_time": "2023-11-06T12:20:03.775Z"
   },
   {
    "duration": 15,
    "start_time": "2023-11-06T12:20:13.268Z"
   },
   {
    "duration": 29,
    "start_time": "2023-11-06T12:26:54.127Z"
   },
   {
    "duration": 8,
    "start_time": "2023-11-06T12:26:55.926Z"
   },
   {
    "duration": 7,
    "start_time": "2023-11-06T12:39:27.907Z"
   },
   {
    "duration": 30,
    "start_time": "2023-11-06T12:41:30.905Z"
   },
   {
    "duration": 8,
    "start_time": "2023-11-06T12:41:47.189Z"
   },
   {
    "duration": 626,
    "start_time": "2023-11-06T19:56:30.662Z"
   },
   {
    "duration": 22,
    "start_time": "2023-11-06T19:56:31.290Z"
   },
   {
    "duration": 58,
    "start_time": "2023-11-06T19:56:31.314Z"
   },
   {
    "duration": 33,
    "start_time": "2023-11-06T19:56:31.374Z"
   },
   {
    "duration": 80,
    "start_time": "2023-11-06T19:56:31.409Z"
   },
   {
    "duration": 4,
    "start_time": "2023-11-06T19:56:31.491Z"
   },
   {
    "duration": 34,
    "start_time": "2023-11-06T19:56:31.497Z"
   },
   {
    "duration": 49,
    "start_time": "2023-11-06T19:56:31.532Z"
   },
   {
    "duration": 46,
    "start_time": "2023-11-06T19:56:31.584Z"
   },
   {
    "duration": 40,
    "start_time": "2023-11-06T19:56:31.632Z"
   },
   {
    "duration": 102,
    "start_time": "2023-11-06T19:56:31.674Z"
   },
   {
    "duration": 10,
    "start_time": "2023-11-06T19:56:31.777Z"
   },
   {
    "duration": 13,
    "start_time": "2023-11-06T19:56:31.789Z"
   },
   {
    "duration": 46,
    "start_time": "2023-11-06T19:56:31.805Z"
   },
   {
    "duration": 49,
    "start_time": "2023-11-06T19:56:31.853Z"
   },
   {
    "duration": 37,
    "start_time": "2023-11-06T19:56:31.904Z"
   },
   {
    "duration": 5,
    "start_time": "2023-11-06T19:56:31.943Z"
   },
   {
    "duration": 20,
    "start_time": "2023-11-06T19:56:31.950Z"
   },
   {
    "duration": 46,
    "start_time": "2023-11-06T19:56:31.972Z"
   },
   {
    "duration": 12,
    "start_time": "2023-11-06T19:56:32.020Z"
   },
   {
    "duration": 27,
    "start_time": "2023-11-06T19:56:32.034Z"
   },
   {
    "duration": 7,
    "start_time": "2023-11-06T19:56:32.064Z"
   },
   {
    "duration": 21,
    "start_time": "2023-11-06T19:56:32.073Z"
   },
   {
    "duration": 29,
    "start_time": "2023-11-06T19:56:32.096Z"
   },
   {
    "duration": 52,
    "start_time": "2023-11-06T19:56:32.127Z"
   },
   {
    "duration": 14,
    "start_time": "2023-11-06T19:56:32.181Z"
   },
   {
    "duration": 28,
    "start_time": "2023-11-06T19:56:32.197Z"
   },
   {
    "duration": 13,
    "start_time": "2023-11-06T19:56:32.227Z"
   },
   {
    "duration": 42,
    "start_time": "2023-11-06T19:56:32.242Z"
   },
   {
    "duration": 9,
    "start_time": "2023-11-06T19:56:32.286Z"
   },
   {
    "duration": 16,
    "start_time": "2023-11-06T19:56:32.297Z"
   },
   {
    "duration": 56,
    "start_time": "2023-11-06T19:56:32.314Z"
   },
   {
    "duration": 48,
    "start_time": "2023-11-06T19:56:32.372Z"
   },
   {
    "duration": 20,
    "start_time": "2023-11-06T19:56:32.422Z"
   },
   {
    "duration": 40,
    "start_time": "2023-11-06T19:56:32.444Z"
   },
   {
    "duration": 82,
    "start_time": "2023-11-06T19:56:32.486Z"
   },
   {
    "duration": 8,
    "start_time": "2023-11-06T19:56:32.570Z"
   },
   {
    "duration": 491,
    "start_time": "2023-11-08T14:00:17.503Z"
   },
   {
    "duration": 24,
    "start_time": "2023-11-08T14:00:20.012Z"
   },
   {
    "duration": 16,
    "start_time": "2023-11-08T14:00:23.701Z"
   },
   {
    "duration": 11,
    "start_time": "2023-11-08T14:00:25.501Z"
   },
   {
    "duration": 39,
    "start_time": "2023-11-08T14:00:25.911Z"
   },
   {
    "duration": 4,
    "start_time": "2023-11-08T14:00:26.486Z"
   },
   {
    "duration": 8,
    "start_time": "2023-11-08T14:00:26.836Z"
   },
   {
    "duration": 5,
    "start_time": "2023-11-08T14:00:27.379Z"
   },
   {
    "duration": 8,
    "start_time": "2023-11-08T14:00:27.758Z"
   },
   {
    "duration": 5,
    "start_time": "2023-11-08T14:00:28.124Z"
   },
   {
    "duration": 38,
    "start_time": "2023-11-08T14:00:28.675Z"
   },
   {
    "duration": 11,
    "start_time": "2023-11-08T14:00:29.050Z"
   },
   {
    "duration": 4,
    "start_time": "2023-11-08T14:00:29.607Z"
   },
   {
    "duration": 14,
    "start_time": "2023-11-08T14:00:30.148Z"
   },
   {
    "duration": 21,
    "start_time": "2023-11-08T14:00:30.524Z"
   },
   {
    "duration": 21,
    "start_time": "2023-11-08T14:00:30.700Z"
   },
   {
    "duration": 4,
    "start_time": "2023-11-08T14:00:31.259Z"
   },
   {
    "duration": 12,
    "start_time": "2023-11-08T14:00:31.460Z"
   },
   {
    "duration": 7,
    "start_time": "2023-11-08T14:00:32.267Z"
   },
   {
    "duration": 5,
    "start_time": "2023-11-08T14:00:33.715Z"
   },
   {
    "duration": 9,
    "start_time": "2023-11-08T14:00:34.157Z"
   },
   {
    "duration": 4,
    "start_time": "2023-11-08T14:00:43.390Z"
   },
   {
    "duration": 8,
    "start_time": "2023-11-08T14:00:43.843Z"
   },
   {
    "duration": 7,
    "start_time": "2023-11-08T14:00:44.571Z"
   },
   {
    "duration": 31,
    "start_time": "2023-11-08T14:00:47.628Z"
   },
   {
    "duration": 7,
    "start_time": "2023-11-08T14:00:47.932Z"
   },
   {
    "duration": 6,
    "start_time": "2023-11-08T14:00:48.772Z"
   },
   {
    "duration": 7,
    "start_time": "2023-11-08T14:00:49.030Z"
   },
   {
    "duration": 31,
    "start_time": "2023-11-08T14:00:49.358Z"
   },
   {
    "duration": 9,
    "start_time": "2023-11-08T14:00:49.629Z"
   },
   {
    "duration": 3,
    "start_time": "2023-11-08T14:00:50.395Z"
   },
   {
    "duration": 9,
    "start_time": "2023-11-08T14:00:51.130Z"
   },
   {
    "duration": 2073,
    "start_time": "2023-11-08T14:00:51.341Z"
   },
   {
    "duration": 0,
    "start_time": "2023-11-08T14:00:53.416Z"
   },
   {
    "duration": 0,
    "start_time": "2023-11-08T14:00:53.417Z"
   },
   {
    "duration": 0,
    "start_time": "2023-11-08T14:00:53.418Z"
   },
   {
    "duration": 0,
    "start_time": "2023-11-08T14:00:53.420Z"
   },
   {
    "duration": 2,
    "start_time": "2023-11-08T14:03:11.113Z"
   },
   {
    "duration": 12,
    "start_time": "2023-11-08T14:24:35.006Z"
   },
   {
    "duration": 11,
    "start_time": "2023-11-08T14:25:01.824Z"
   },
   {
    "duration": 12,
    "start_time": "2023-11-08T14:25:11.825Z"
   },
   {
    "duration": 12,
    "start_time": "2023-11-08T14:25:30.582Z"
   },
   {
    "duration": 15,
    "start_time": "2023-11-08T14:33:23.913Z"
   },
   {
    "duration": 22,
    "start_time": "2023-11-08T14:51:15.791Z"
   },
   {
    "duration": 13,
    "start_time": "2023-11-08T14:51:50.160Z"
   },
   {
    "duration": 15,
    "start_time": "2023-11-08T14:52:42.724Z"
   },
   {
    "duration": 14,
    "start_time": "2023-11-08T14:53:12.332Z"
   },
   {
    "duration": 12,
    "start_time": "2023-11-08T14:53:55.510Z"
   },
   {
    "duration": 12,
    "start_time": "2023-11-08T14:55:08.667Z"
   },
   {
    "duration": 12,
    "start_time": "2023-11-08T14:57:31.843Z"
   },
   {
    "duration": 8,
    "start_time": "2023-11-08T14:57:34.386Z"
   },
   {
    "duration": 14,
    "start_time": "2023-11-08T14:57:36.445Z"
   },
   {
    "duration": 12,
    "start_time": "2023-11-08T15:17:14.073Z"
   },
   {
    "duration": 12,
    "start_time": "2023-11-08T15:17:39.047Z"
   },
   {
    "duration": 14,
    "start_time": "2023-11-08T15:17:47.757Z"
   },
   {
    "duration": 802,
    "start_time": "2023-11-08T19:44:56.656Z"
   },
   {
    "duration": 29,
    "start_time": "2023-11-08T19:44:57.461Z"
   },
   {
    "duration": 84,
    "start_time": "2023-11-08T19:44:57.492Z"
   },
   {
    "duration": 36,
    "start_time": "2023-11-08T19:44:57.579Z"
   },
   {
    "duration": 63,
    "start_time": "2023-11-08T19:44:57.617Z"
   },
   {
    "duration": 13,
    "start_time": "2023-11-08T19:44:57.682Z"
   },
   {
    "duration": 16,
    "start_time": "2023-11-08T19:44:57.697Z"
   },
   {
    "duration": 5,
    "start_time": "2023-11-08T19:44:57.715Z"
   },
   {
    "duration": 13,
    "start_time": "2023-11-08T19:44:57.722Z"
   },
   {
    "duration": 12,
    "start_time": "2023-11-08T19:44:57.738Z"
   },
   {
    "duration": 43,
    "start_time": "2023-11-08T19:44:57.752Z"
   },
   {
    "duration": 11,
    "start_time": "2023-11-08T19:44:57.797Z"
   },
   {
    "duration": 4,
    "start_time": "2023-11-08T19:44:57.810Z"
   },
   {
    "duration": 37,
    "start_time": "2023-11-08T19:44:57.815Z"
   },
   {
    "duration": 23,
    "start_time": "2023-11-08T19:44:57.854Z"
   },
   {
    "duration": 20,
    "start_time": "2023-11-08T19:44:57.879Z"
   },
   {
    "duration": 4,
    "start_time": "2023-11-08T19:44:57.901Z"
   },
   {
    "duration": 40,
    "start_time": "2023-11-08T19:44:57.907Z"
   },
   {
    "duration": 6,
    "start_time": "2023-11-08T19:44:57.949Z"
   },
   {
    "duration": 6,
    "start_time": "2023-11-08T19:44:57.957Z"
   },
   {
    "duration": 17,
    "start_time": "2023-11-08T19:44:57.965Z"
   },
   {
    "duration": 11,
    "start_time": "2023-11-08T19:44:57.984Z"
   },
   {
    "duration": 11,
    "start_time": "2023-11-08T19:44:57.997Z"
   },
   {
    "duration": 13,
    "start_time": "2023-11-08T19:44:58.010Z"
   },
   {
    "duration": 25,
    "start_time": "2023-11-08T19:44:58.025Z"
   },
   {
    "duration": 9,
    "start_time": "2023-11-08T19:44:58.052Z"
   },
   {
    "duration": 13,
    "start_time": "2023-11-08T19:44:58.063Z"
   },
   {
    "duration": 3,
    "start_time": "2023-11-08T19:44:58.079Z"
   },
   {
    "duration": 25,
    "start_time": "2023-11-08T19:44:58.083Z"
   },
   {
    "duration": 45,
    "start_time": "2023-11-08T19:44:58.110Z"
   }
  ],
  "celltoolbar": "Raw Cell Format",
  "colab": {
   "name": "dpp_template_part2.ipynb",
   "provenance": []
  },
  "kernelspec": {
   "display_name": "Python 3 (ipykernel)",
   "language": "python",
   "name": "python3"
  },
  "language_info": {
   "codemirror_mode": {
    "name": "ipython",
    "version": 3
   },
   "file_extension": ".py",
   "mimetype": "text/x-python",
   "name": "python",
   "nbconvert_exporter": "python",
   "pygments_lexer": "ipython3",
   "version": "3.9.5"
  },
  "toc": {
   "base_numbering": 1,
   "nav_menu": {},
   "number_sections": true,
   "sideBar": true,
   "skip_h1_title": true,
   "title_cell": "Table of Contents",
   "title_sidebar": "Contents",
   "toc_cell": false,
   "toc_position": {},
   "toc_section_display": true,
   "toc_window_display": false
  }
 },
 "nbformat": 4,
 "nbformat_minor": 5
}
